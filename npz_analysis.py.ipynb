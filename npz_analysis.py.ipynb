{
 "cells": [
  {
   "cell_type": "code",
   "id": "initial_id",
   "metadata": {
    "collapsed": true,
    "ExecuteTime": {
     "end_time": "2025-08-04T08:01:12.044559Z",
     "start_time": "2025-08-04T08:01:11.992731Z"
    }
   },
   "source": "import numpy as np",
   "outputs": [],
   "execution_count": 1
  },
  {
   "metadata": {
    "ExecuteTime": {
     "end_time": "2025-08-04T08:01:12.835570Z",
     "start_time": "2025-08-04T08:01:12.831541Z"
    }
   },
   "cell_type": "code",
   "source": [
    "# npz 파일 경로\n",
    "file_path = './npz_seq1/sample_010000.npz'\n",
    "\n",
    "# npz 파일 열기\n",
    "data = np.load(file_path)"
   ],
   "id": "6283f978088819aa",
   "outputs": [],
   "execution_count": 2
  },
  {
   "metadata": {
    "ExecuteTime": {
     "end_time": "2025-08-04T08:01:14.670053Z",
     "start_time": "2025-08-04T08:01:14.665645Z"
    }
   },
   "cell_type": "code",
   "source": [
    "# npz 안에 어떤 배열들이 들어있는지 확인\n",
    "print(data.files)  # 배열 이름 리스트 출력\n",
    "\n",
    "# 각 배열의 내용을 확인\n",
    "for name in data.files:\n",
    "    arr = data[name]\n",
    "    print(f\"배열 이름: {name}, shape: {arr.shape}, dtype: {arr.dtype}\")\n",
    "    print(arr)  # 배열 데이터 일부를 출력"
   ],
   "id": "72cfd8bbb005cac3",
   "outputs": [
    {
     "name": "stdout",
     "output_type": "stream",
     "text": [
      "['points']\n",
      "배열 이름: points, shape: (1987, 5), dtype: float32\n",
      "[[ 5.1805286   6.376306   -0.17324246 18.         32.        ]\n",
      " [ 5.0044184   5.8459883   2.51634     8.         45.        ]\n",
      " [13.258643   15.363523    2.6797287  15.         38.        ]\n",
      " ...\n",
      " [-1.7608765   4.9178004   3.1291132  12.         52.        ]\n",
      " [-0.89197016  2.5593295   2.7608747  34.         60.        ]\n",
      " [-2.244391    8.205988    3.8662581  11.         48.        ]]\n"
     ]
    }
   ],
   "execution_count": 3
  },
  {
   "metadata": {},
   "cell_type": "markdown",
   "source": "npz는 x, y, z, intensity, ring 으로 구성되어 있으며, 이 포인트는 전부 2nd return",
   "id": "4c330d75e437aa81"
  },
  {
   "metadata": {},
   "cell_type": "code",
   "outputs": [],
   "execution_count": null,
   "source": "",
   "id": "78e040eca9eef801"
  }
 ],
 "metadata": {
  "kernelspec": {
   "display_name": "Python 3",
   "language": "python",
   "name": "python3"
  },
  "language_info": {
   "codemirror_mode": {
    "name": "ipython",
    "version": 2
   },
   "file_extension": ".py",
   "mimetype": "text/x-python",
   "name": "python",
   "nbconvert_exporter": "python",
   "pygments_lexer": "ipython2",
   "version": "2.7.6"
  }
 },
 "nbformat": 4,
 "nbformat_minor": 5
}
